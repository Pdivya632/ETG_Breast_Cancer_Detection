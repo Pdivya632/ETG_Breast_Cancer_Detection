{
  "nbformat": 4,
  "nbformat_minor": 0,
  "metadata": {
    "colab": {
      "name": "Breast_cancer_detection.ipynb",
      "provenance": [],
      "collapsed_sections": []
    },
    "kernelspec": {
      "name": "python3",
      "display_name": "Python 3"
    },
    "language_info": {
      "name": "python"
    }
  },
  "cells": [
    {
      "cell_type": "code",
      "metadata": {
        "id": "lycYLFNMPSSn"
      },
      "source": [
        "from sklearn.datasets import load_breast_cancer\n",
        "from sklearn.preprocessing import StandardScaler\n",
        "import pandas as pd\n",
        "from keras.models import Sequential\n",
        "from keras.layers import Dense\n",
        "import numpy as np"
      ],
      "execution_count": 87,
      "outputs": []
    },
    {
      "cell_type": "code",
      "metadata": {
        "id": "vmIhD921Q8AV"
      },
      "source": [
        "data=load_breast_cancer()"
      ],
      "execution_count": 88,
      "outputs": []
    },
    {
      "cell_type": "code",
      "metadata": {
        "colab": {
          "base_uri": "https://localhost:8080/"
        },
        "id": "a3DafaWNRutd",
        "outputId": "57184ede-125e-4701-caf3-8057bd3a575e"
      },
      "source": [
        "data.keys()"
      ],
      "execution_count": 89,
      "outputs": [
        {
          "output_type": "execute_result",
          "data": {
            "text/plain": [
              "dict_keys(['data', 'target', 'target_names', 'DESCR', 'feature_names', 'filename'])"
            ]
          },
          "metadata": {},
          "execution_count": 89
        }
      ]
    },
    {
      "cell_type": "code",
      "metadata": {
        "colab": {
          "base_uri": "https://localhost:8080/"
        },
        "id": "QaLKxLfWRxyA",
        "outputId": "41f10406-0cc4-478b-db62-c55d66d96291"
      },
      "source": [
        "print(data['DESCR'])"
      ],
      "execution_count": 90,
      "outputs": [
        {
          "output_type": "stream",
          "name": "stdout",
          "text": [
            ".. _breast_cancer_dataset:\n",
            "\n",
            "Breast cancer wisconsin (diagnostic) dataset\n",
            "--------------------------------------------\n",
            "\n",
            "**Data Set Characteristics:**\n",
            "\n",
            "    :Number of Instances: 569\n",
            "\n",
            "    :Number of Attributes: 30 numeric, predictive attributes and the class\n",
            "\n",
            "    :Attribute Information:\n",
            "        - radius (mean of distances from center to points on the perimeter)\n",
            "        - texture (standard deviation of gray-scale values)\n",
            "        - perimeter\n",
            "        - area\n",
            "        - smoothness (local variation in radius lengths)\n",
            "        - compactness (perimeter^2 / area - 1.0)\n",
            "        - concavity (severity of concave portions of the contour)\n",
            "        - concave points (number of concave portions of the contour)\n",
            "        - symmetry \n",
            "        - fractal dimension (\"coastline approximation\" - 1)\n",
            "\n",
            "        The mean, standard error, and \"worst\" or largest (mean of the three\n",
            "        largest values) of these features were computed for each image,\n",
            "        resulting in 30 features.  For instance, field 3 is Mean Radius, field\n",
            "        13 is Radius SE, field 23 is Worst Radius.\n",
            "\n",
            "        - class:\n",
            "                - WDBC-Malignant\n",
            "                - WDBC-Benign\n",
            "\n",
            "    :Summary Statistics:\n",
            "\n",
            "    ===================================== ====== ======\n",
            "                                           Min    Max\n",
            "    ===================================== ====== ======\n",
            "    radius (mean):                        6.981  28.11\n",
            "    texture (mean):                       9.71   39.28\n",
            "    perimeter (mean):                     43.79  188.5\n",
            "    area (mean):                          143.5  2501.0\n",
            "    smoothness (mean):                    0.053  0.163\n",
            "    compactness (mean):                   0.019  0.345\n",
            "    concavity (mean):                     0.0    0.427\n",
            "    concave points (mean):                0.0    0.201\n",
            "    symmetry (mean):                      0.106  0.304\n",
            "    fractal dimension (mean):             0.05   0.097\n",
            "    radius (standard error):              0.112  2.873\n",
            "    texture (standard error):             0.36   4.885\n",
            "    perimeter (standard error):           0.757  21.98\n",
            "    area (standard error):                6.802  542.2\n",
            "    smoothness (standard error):          0.002  0.031\n",
            "    compactness (standard error):         0.002  0.135\n",
            "    concavity (standard error):           0.0    0.396\n",
            "    concave points (standard error):      0.0    0.053\n",
            "    symmetry (standard error):            0.008  0.079\n",
            "    fractal dimension (standard error):   0.001  0.03\n",
            "    radius (worst):                       7.93   36.04\n",
            "    texture (worst):                      12.02  49.54\n",
            "    perimeter (worst):                    50.41  251.2\n",
            "    area (worst):                         185.2  4254.0\n",
            "    smoothness (worst):                   0.071  0.223\n",
            "    compactness (worst):                  0.027  1.058\n",
            "    concavity (worst):                    0.0    1.252\n",
            "    concave points (worst):               0.0    0.291\n",
            "    symmetry (worst):                     0.156  0.664\n",
            "    fractal dimension (worst):            0.055  0.208\n",
            "    ===================================== ====== ======\n",
            "\n",
            "    :Missing Attribute Values: None\n",
            "\n",
            "    :Class Distribution: 212 - Malignant, 357 - Benign\n",
            "\n",
            "    :Creator:  Dr. William H. Wolberg, W. Nick Street, Olvi L. Mangasarian\n",
            "\n",
            "    :Donor: Nick Street\n",
            "\n",
            "    :Date: November, 1995\n",
            "\n",
            "This is a copy of UCI ML Breast Cancer Wisconsin (Diagnostic) datasets.\n",
            "https://goo.gl/U2Uwz2\n",
            "\n",
            "Features are computed from a digitized image of a fine needle\n",
            "aspirate (FNA) of a breast mass.  They describe\n",
            "characteristics of the cell nuclei present in the image.\n",
            "\n",
            "Separating plane described above was obtained using\n",
            "Multisurface Method-Tree (MSM-T) [K. P. Bennett, \"Decision Tree\n",
            "Construction Via Linear Programming.\" Proceedings of the 4th\n",
            "Midwest Artificial Intelligence and Cognitive Science Society,\n",
            "pp. 97-101, 1992], a classification method which uses linear\n",
            "programming to construct a decision tree.  Relevant features\n",
            "were selected using an exhaustive search in the space of 1-4\n",
            "features and 1-3 separating planes.\n",
            "\n",
            "The actual linear program used to obtain the separating plane\n",
            "in the 3-dimensional space is that described in:\n",
            "[K. P. Bennett and O. L. Mangasarian: \"Robust Linear\n",
            "Programming Discrimination of Two Linearly Inseparable Sets\",\n",
            "Optimization Methods and Software 1, 1992, 23-34].\n",
            "\n",
            "This database is also available through the UW CS ftp server:\n",
            "\n",
            "ftp ftp.cs.wisc.edu\n",
            "cd math-prog/cpo-dataset/machine-learn/WDBC/\n",
            "\n",
            ".. topic:: References\n",
            "\n",
            "   - W.N. Street, W.H. Wolberg and O.L. Mangasarian. Nuclear feature extraction \n",
            "     for breast tumor diagnosis. IS&T/SPIE 1993 International Symposium on \n",
            "     Electronic Imaging: Science and Technology, volume 1905, pages 861-870,\n",
            "     San Jose, CA, 1993.\n",
            "   - O.L. Mangasarian, W.N. Street and W.H. Wolberg. Breast cancer diagnosis and \n",
            "     prognosis via linear programming. Operations Research, 43(4), pages 570-577, \n",
            "     July-August 1995.\n",
            "   - W.H. Wolberg, W.N. Street, and O.L. Mangasarian. Machine learning techniques\n",
            "     to diagnose breast cancer from fine-needle aspirates. Cancer Letters 77 (1994) \n",
            "     163-171.\n"
          ]
        }
      ]
    },
    {
      "cell_type": "code",
      "metadata": {
        "colab": {
          "base_uri": "https://localhost:8080/"
        },
        "id": "WnHsp1tlS6zx",
        "outputId": "09e48946-28ad-43e1-dd52-a3c171e6e2ad"
      },
      "source": [
        "data['feature_names']"
      ],
      "execution_count": 91,
      "outputs": [
        {
          "output_type": "execute_result",
          "data": {
            "text/plain": [
              "array(['mean radius', 'mean texture', 'mean perimeter', 'mean area',\n",
              "       'mean smoothness', 'mean compactness', 'mean concavity',\n",
              "       'mean concave points', 'mean symmetry', 'mean fractal dimension',\n",
              "       'radius error', 'texture error', 'perimeter error', 'area error',\n",
              "       'smoothness error', 'compactness error', 'concavity error',\n",
              "       'concave points error', 'symmetry error',\n",
              "       'fractal dimension error', 'worst radius', 'worst texture',\n",
              "       'worst perimeter', 'worst area', 'worst smoothness',\n",
              "       'worst compactness', 'worst concavity', 'worst concave points',\n",
              "       'worst symmetry', 'worst fractal dimension'], dtype='<U23')"
            ]
          },
          "metadata": {},
          "execution_count": 91
        }
      ]
    },
    {
      "cell_type": "code",
      "metadata": {
        "colab": {
          "base_uri": "https://localhost:8080/"
        },
        "id": "ePxmi8hLTADy",
        "outputId": "b4e6c4f4-0cef-4c3b-e99c-6076709d2128"
      },
      "source": [
        "data['data']"
      ],
      "execution_count": 92,
      "outputs": [
        {
          "output_type": "execute_result",
          "data": {
            "text/plain": [
              "array([[1.799e+01, 1.038e+01, 1.228e+02, ..., 2.654e-01, 4.601e-01,\n",
              "        1.189e-01],\n",
              "       [2.057e+01, 1.777e+01, 1.329e+02, ..., 1.860e-01, 2.750e-01,\n",
              "        8.902e-02],\n",
              "       [1.969e+01, 2.125e+01, 1.300e+02, ..., 2.430e-01, 3.613e-01,\n",
              "        8.758e-02],\n",
              "       ...,\n",
              "       [1.660e+01, 2.808e+01, 1.083e+02, ..., 1.418e-01, 2.218e-01,\n",
              "        7.820e-02],\n",
              "       [2.060e+01, 2.933e+01, 1.401e+02, ..., 2.650e-01, 4.087e-01,\n",
              "        1.240e-01],\n",
              "       [7.760e+00, 2.454e+01, 4.792e+01, ..., 0.000e+00, 2.871e-01,\n",
              "        7.039e-02]])"
            ]
          },
          "metadata": {},
          "execution_count": 92
        }
      ]
    },
    {
      "cell_type": "code",
      "metadata": {
        "colab": {
          "base_uri": "https://localhost:8080/"
        },
        "id": "hlVS7j0dUS7U",
        "outputId": "eae6d065-6d02-4c22-c5e2-3dd81cad8102"
      },
      "source": [
        "data['data'][0]"
      ],
      "execution_count": 93,
      "outputs": [
        {
          "output_type": "execute_result",
          "data": {
            "text/plain": [
              "array([1.799e+01, 1.038e+01, 1.228e+02, 1.001e+03, 1.184e-01, 2.776e-01,\n",
              "       3.001e-01, 1.471e-01, 2.419e-01, 7.871e-02, 1.095e+00, 9.053e-01,\n",
              "       8.589e+00, 1.534e+02, 6.399e-03, 4.904e-02, 5.373e-02, 1.587e-02,\n",
              "       3.003e-02, 6.193e-03, 2.538e+01, 1.733e+01, 1.846e+02, 2.019e+03,\n",
              "       1.622e-01, 6.656e-01, 7.119e-01, 2.654e-01, 4.601e-01, 1.189e-01])"
            ]
          },
          "metadata": {},
          "execution_count": 93
        }
      ]
    },
    {
      "cell_type": "code",
      "metadata": {
        "colab": {
          "base_uri": "https://localhost:8080/"
        },
        "id": "CGyMsjgPUYE0",
        "outputId": "e7a980e2-71c3-4862-adf8-adab7f800d4a"
      },
      "source": [
        "j = 0\n",
        "for i in data['feature_names']:\n",
        "  print(i,\":\",data['data'][0][j])\n",
        "  j+=1"
      ],
      "execution_count": 94,
      "outputs": [
        {
          "output_type": "stream",
          "name": "stdout",
          "text": [
            "mean radius : 17.99\n",
            "mean texture : 10.38\n",
            "mean perimeter : 122.8\n",
            "mean area : 1001.0\n",
            "mean smoothness : 0.1184\n",
            "mean compactness : 0.2776\n",
            "mean concavity : 0.3001\n",
            "mean concave points : 0.1471\n",
            "mean symmetry : 0.2419\n",
            "mean fractal dimension : 0.07871\n",
            "radius error : 1.095\n",
            "texture error : 0.9053\n",
            "perimeter error : 8.589\n",
            "area error : 153.4\n",
            "smoothness error : 0.006399\n",
            "compactness error : 0.04904\n",
            "concavity error : 0.05373\n",
            "concave points error : 0.01587\n",
            "symmetry error : 0.03003\n",
            "fractal dimension error : 0.006193\n",
            "worst radius : 25.38\n",
            "worst texture : 17.33\n",
            "worst perimeter : 184.6\n",
            "worst area : 2019.0\n",
            "worst smoothness : 0.1622\n",
            "worst compactness : 0.6656\n",
            "worst concavity : 0.7119\n",
            "worst concave points : 0.2654\n",
            "worst symmetry : 0.4601\n",
            "worst fractal dimension : 0.1189\n"
          ]
        }
      ]
    },
    {
      "cell_type": "code",
      "metadata": {
        "colab": {
          "base_uri": "https://localhost:8080/"
        },
        "id": "fCl7wWyVUbh1",
        "outputId": "9391621c-f8c4-4944-b8a7-ce3f15749c8b"
      },
      "source": [
        "feature = data['data']\n",
        "feature.shape"
      ],
      "execution_count": 95,
      "outputs": [
        {
          "output_type": "execute_result",
          "data": {
            "text/plain": [
              "(569, 30)"
            ]
          },
          "metadata": {},
          "execution_count": 95
        }
      ]
    },
    {
      "cell_type": "code",
      "metadata": {
        "colab": {
          "base_uri": "https://localhost:8080/"
        },
        "id": "wzgVXAN0UjHE",
        "outputId": "cd245cba-4dca-4594-e207-65fdf6ec47f6"
      },
      "source": [
        "label = data['target']\n",
        "label.shape"
      ],
      "execution_count": 96,
      "outputs": [
        {
          "output_type": "execute_result",
          "data": {
            "text/plain": [
              "(569,)"
            ]
          },
          "metadata": {},
          "execution_count": 96
        }
      ]
    },
    {
      "cell_type": "code",
      "metadata": {
        "colab": {
          "base_uri": "https://localhost:8080/"
        },
        "id": "PagFv2LJUlgv",
        "outputId": "4c9e83b2-3927-4ddf-d780-5dd8e2b9d0de"
      },
      "source": [
        "data['target_names']"
      ],
      "execution_count": 97,
      "outputs": [
        {
          "output_type": "execute_result",
          "data": {
            "text/plain": [
              "array(['malignant', 'benign'], dtype='<U9')"
            ]
          },
          "metadata": {},
          "execution_count": 97
        }
      ]
    },
    {
      "cell_type": "code",
      "metadata": {
        "id": "kl3P5AAWU46c"
      },
      "source": [
        "scale = StandardScaler()\n",
        "feature = scale.fit_transform(feature)"
      ],
      "execution_count": 98,
      "outputs": []
    },
    {
      "cell_type": "code",
      "metadata": {
        "colab": {
          "base_uri": "https://localhost:8080/"
        },
        "id": "dwSPgC41VCM3",
        "outputId": "28f0ff43-e9d9-4506-83f9-1a49602850fb"
      },
      "source": [
        "j = 0\n",
        "for i in data['feature_names']:\n",
        "  print(i,\":\",feature[0][j])\n",
        "  j+=1"
      ],
      "execution_count": 99,
      "outputs": [
        {
          "output_type": "stream",
          "name": "stdout",
          "text": [
            "mean radius : 1.0970639814699807\n",
            "mean texture : -2.0733350146975935\n",
            "mean perimeter : 1.2699336881399383\n",
            "mean area : 0.9843749048031144\n",
            "mean smoothness : 1.568466329243428\n",
            "mean compactness : 3.2835146709868264\n",
            "mean concavity : 2.652873983743168\n",
            "mean concave points : 2.532475216403245\n",
            "mean symmetry : 2.2175150059646405\n",
            "mean fractal dimension : 2.255746885296269\n",
            "radius error : 2.4897339267376193\n",
            "texture error : -0.5652650590684639\n",
            "perimeter error : 2.833030865855184\n",
            "area error : 2.4875775569611043\n",
            "smoothness error : -0.21400164666895383\n",
            "compactness error : 1.3168615683959484\n",
            "concavity error : 0.72402615808036\n",
            "concave points error : 0.6608199414286064\n",
            "symmetry error : 1.1487566671861758\n",
            "fractal dimension error : 0.9070830809973359\n",
            "worst radius : 1.8866896251792757\n",
            "worst texture : -1.3592934737640827\n",
            "worst perimeter : 2.3036006236225606\n",
            "worst area : 2.0012374893299207\n",
            "worst smoothness : 1.3076862710715387\n",
            "worst compactness : 2.616665023512603\n",
            "worst concavity : 2.1095263465722556\n",
            "worst concave points : 2.296076127561788\n",
            "worst symmetry : 2.750622244124955\n",
            "worst fractal dimension : 1.9370146123781782\n"
          ]
        }
      ]
    },
    {
      "cell_type": "code",
      "metadata": {
        "colab": {
          "base_uri": "https://localhost:8080/"
        },
        "id": "7I1bvaxKXgAD",
        "outputId": "0a91e23f-ecc9-40a0-cac7-b9c613b22c44"
      },
      "source": [
        "print(feature[169])\n",
        "print(data['target_names'][label[169]],label[169])"
      ],
      "execution_count": 100,
      "outputs": [
        {
          "output_type": "stream",
          "name": "stdout",
          "text": [
            "[ 2.39341109e-01 -5.44451913e-01  1.75098166e-01  8.81981712e-02\n",
            "  1.55832307e-01 -4.83091862e-01 -7.88192496e-01 -2.86549112e-01\n",
            " -1.15437825e-01 -8.92751726e-01 -4.83172367e-01  2.65933710e-04\n",
            " -4.81694103e-01 -3.53283192e-01 -6.53686140e-01 -6.58274755e-01\n",
            " -8.16250186e-01 -4.41719155e-01 -8.52670997e-01 -7.90130691e-01\n",
            " -3.29654279e-02 -4.35969176e-01 -7.92664501e-02 -1.52732956e-01\n",
            " -4.72050918e-01 -5.76120214e-01 -9.86891288e-01 -4.53086030e-01\n",
            " -8.03641759e-01 -1.08979734e+00]\n",
            "benign 1\n"
          ]
        }
      ]
    },
    {
      "cell_type": "code",
      "metadata": {
        "id": "Qq0_wZOiYJKh"
      },
      "source": [
        "df_frt = pd.DataFrame(feature , columns = data['feature_names'])\n",
        "df_lbl = pd.DataFrame(label , columns = ['label'])\n",
        "df = pd.concat([df_frt, df_lbl], axis=1)\n",
        "df = df.sample(frac = 1)\n",
        "\n",
        "feature = df.values[ : , : 30]\n",
        "label = df.values[ : ,30: ]"
      ],
      "execution_count": 101,
      "outputs": []
    },
    {
      "cell_type": "code",
      "metadata": {
        "colab": {
          "base_uri": "https://localhost:8080/",
          "height": 470
        },
        "id": "hyMmtofUY7o1",
        "outputId": "74f1604a-1673-426a-c25a-1447b70cc42e"
      },
      "source": [
        "df"
      ],
      "execution_count": 102,
      "outputs": [
        {
          "output_type": "execute_result",
          "data": {
            "text/html": [
              "<div>\n",
              "<style scoped>\n",
              "    .dataframe tbody tr th:only-of-type {\n",
              "        vertical-align: middle;\n",
              "    }\n",
              "\n",
              "    .dataframe tbody tr th {\n",
              "        vertical-align: top;\n",
              "    }\n",
              "\n",
              "    .dataframe thead th {\n",
              "        text-align: right;\n",
              "    }\n",
              "</style>\n",
              "<table border=\"1\" class=\"dataframe\">\n",
              "  <thead>\n",
              "    <tr style=\"text-align: right;\">\n",
              "      <th></th>\n",
              "      <th>mean radius</th>\n",
              "      <th>mean texture</th>\n",
              "      <th>mean perimeter</th>\n",
              "      <th>mean area</th>\n",
              "      <th>mean smoothness</th>\n",
              "      <th>mean compactness</th>\n",
              "      <th>mean concavity</th>\n",
              "      <th>mean concave points</th>\n",
              "      <th>mean symmetry</th>\n",
              "      <th>mean fractal dimension</th>\n",
              "      <th>radius error</th>\n",
              "      <th>texture error</th>\n",
              "      <th>perimeter error</th>\n",
              "      <th>area error</th>\n",
              "      <th>smoothness error</th>\n",
              "      <th>compactness error</th>\n",
              "      <th>concavity error</th>\n",
              "      <th>concave points error</th>\n",
              "      <th>symmetry error</th>\n",
              "      <th>fractal dimension error</th>\n",
              "      <th>worst radius</th>\n",
              "      <th>worst texture</th>\n",
              "      <th>worst perimeter</th>\n",
              "      <th>worst area</th>\n",
              "      <th>worst smoothness</th>\n",
              "      <th>worst compactness</th>\n",
              "      <th>worst concavity</th>\n",
              "      <th>worst concave points</th>\n",
              "      <th>worst symmetry</th>\n",
              "      <th>worst fractal dimension</th>\n",
              "      <th>label</th>\n",
              "    </tr>\n",
              "  </thead>\n",
              "  <tbody>\n",
              "    <tr>\n",
              "      <th>368</th>\n",
              "      <td>2.153597</td>\n",
              "      <td>-0.474640</td>\n",
              "      <td>2.015476</td>\n",
              "      <td>2.534411</td>\n",
              "      <td>-0.179357</td>\n",
              "      <td>-0.354790</td>\n",
              "      <td>0.351548</td>\n",
              "      <td>0.921641</td>\n",
              "      <td>-0.345447</td>\n",
              "      <td>-1.737644</td>\n",
              "      <td>2.893965</td>\n",
              "      <td>-0.300915</td>\n",
              "      <td>2.409285</td>\n",
              "      <td>4.043098</td>\n",
              "      <td>-0.491013</td>\n",
              "      <td>-0.802470</td>\n",
              "      <td>-0.362529</td>\n",
              "      <td>0.028202</td>\n",
              "      <td>-0.958009</td>\n",
              "      <td>-0.753440</td>\n",
              "      <td>2.998723</td>\n",
              "      <td>0.124213</td>\n",
              "      <td>2.747410</td>\n",
              "      <td>3.977131</td>\n",
              "      <td>0.172337</td>\n",
              "      <td>-0.581845</td>\n",
              "      <td>0.066741</td>\n",
              "      <td>1.026178</td>\n",
              "      <td>-0.632157</td>\n",
              "      <td>-1.053223</td>\n",
              "      <td>0</td>\n",
              "    </tr>\n",
              "    <tr>\n",
              "      <th>330</th>\n",
              "      <td>0.540396</td>\n",
              "      <td>-0.879550</td>\n",
              "      <td>0.569700</td>\n",
              "      <td>0.393370</td>\n",
              "      <td>-0.103210</td>\n",
              "      <td>0.620832</td>\n",
              "      <td>0.396746</td>\n",
              "      <td>0.554335</td>\n",
              "      <td>-0.108136</td>\n",
              "      <td>-0.430613</td>\n",
              "      <td>-0.245686</td>\n",
              "      <td>-0.851387</td>\n",
              "      <td>-0.117352</td>\n",
              "      <td>-0.155488</td>\n",
              "      <td>-0.400676</td>\n",
              "      <td>0.389654</td>\n",
              "      <td>0.174283</td>\n",
              "      <td>0.453192</td>\n",
              "      <td>-0.711009</td>\n",
              "      <td>-0.254905</td>\n",
              "      <td>0.515803</td>\n",
              "      <td>-0.602070</td>\n",
              "      <td>0.507515</td>\n",
              "      <td>0.332978</td>\n",
              "      <td>0.487955</td>\n",
              "      <td>1.231153</td>\n",
              "      <td>1.071822</td>\n",
              "      <td>1.271326</td>\n",
              "      <td>0.191293</td>\n",
              "      <td>0.404213</td>\n",
              "      <td>0</td>\n",
              "    </tr>\n",
              "    <tr>\n",
              "      <th>398</th>\n",
              "      <td>-0.871154</td>\n",
              "      <td>-1.037790</td>\n",
              "      <td>-0.892140</td>\n",
              "      <td>-0.786932</td>\n",
              "      <td>-1.348605</td>\n",
              "      <td>-1.073809</td>\n",
              "      <td>-0.774382</td>\n",
              "      <td>-1.074916</td>\n",
              "      <td>-1.009919</td>\n",
              "      <td>-0.093223</td>\n",
              "      <td>-0.792843</td>\n",
              "      <td>-0.959341</td>\n",
              "      <td>-0.793563</td>\n",
              "      <td>-0.601903</td>\n",
              "      <td>-0.927364</td>\n",
              "      <td>-0.602944</td>\n",
              "      <td>-0.414254</td>\n",
              "      <td>-1.237358</td>\n",
              "      <td>-1.045186</td>\n",
              "      <td>-0.097552</td>\n",
              "      <td>-0.743259</td>\n",
              "      <td>-0.867505</td>\n",
              "      <td>-0.788467</td>\n",
              "      <td>-0.674833</td>\n",
              "      <td>-0.892875</td>\n",
              "      <td>-0.422174</td>\n",
              "      <td>-0.308426</td>\n",
              "      <td>-0.899073</td>\n",
              "      <td>-0.502735</td>\n",
              "      <td>0.423054</td>\n",
              "      <td>1</td>\n",
              "    </tr>\n",
              "    <tr>\n",
              "      <th>54</th>\n",
              "      <td>0.276263</td>\n",
              "      <td>0.635371</td>\n",
              "      <td>0.217936</td>\n",
              "      <td>0.164705</td>\n",
              "      <td>-0.412780</td>\n",
              "      <td>-0.635462</td>\n",
              "      <td>-0.455360</td>\n",
              "      <td>-0.401848</td>\n",
              "      <td>-0.714193</td>\n",
              "      <td>-0.844553</td>\n",
              "      <td>-0.341691</td>\n",
              "      <td>-0.694809</td>\n",
              "      <td>-0.380708</td>\n",
              "      <td>-0.229414</td>\n",
              "      <td>-0.788692</td>\n",
              "      <td>-0.848299</td>\n",
              "      <td>-0.525994</td>\n",
              "      <td>-0.417550</td>\n",
              "      <td>-1.161421</td>\n",
              "      <td>-0.819256</td>\n",
              "      <td>0.379129</td>\n",
              "      <td>0.979143</td>\n",
              "      <td>0.310928</td>\n",
              "      <td>0.262662</td>\n",
              "      <td>0.286310</td>\n",
              "      <td>-0.308942</td>\n",
              "      <td>-0.004742</td>\n",
              "      <td>0.584607</td>\n",
              "      <td>-0.365223</td>\n",
              "      <td>-0.289039</td>\n",
              "      <td>0</td>\n",
              "    </tr>\n",
              "    <tr>\n",
              "      <th>294</th>\n",
              "      <td>-0.399691</td>\n",
              "      <td>-1.282132</td>\n",
              "      <td>-0.419688</td>\n",
              "      <td>-0.462989</td>\n",
              "      <td>0.022041</td>\n",
              "      <td>-0.386818</td>\n",
              "      <td>-0.953165</td>\n",
              "      <td>-0.765543</td>\n",
              "      <td>-0.633872</td>\n",
              "      <td>-0.254830</td>\n",
              "      <td>-0.810167</td>\n",
              "      <td>-0.950269</td>\n",
              "      <td>-0.755446</td>\n",
              "      <td>-0.593102</td>\n",
              "      <td>-0.325673</td>\n",
              "      <td>-0.764465</td>\n",
              "      <td>-0.839858</td>\n",
              "      <td>-0.619339</td>\n",
              "      <td>-0.823612</td>\n",
              "      <td>-0.908902</td>\n",
              "      <td>-0.573451</td>\n",
              "      <td>-1.334867</td>\n",
              "      <td>-0.557627</td>\n",
              "      <td>-0.574632</td>\n",
              "      <td>-0.112597</td>\n",
              "      <td>-0.681083</td>\n",
              "      <td>-1.054776</td>\n",
              "      <td>-0.779240</td>\n",
              "      <td>-0.860264</td>\n",
              "      <td>-0.816043</td>\n",
              "      <td>1</td>\n",
              "    </tr>\n",
              "    <tr>\n",
              "      <th>...</th>\n",
              "      <td>...</td>\n",
              "      <td>...</td>\n",
              "      <td>...</td>\n",
              "      <td>...</td>\n",
              "      <td>...</td>\n",
              "      <td>...</td>\n",
              "      <td>...</td>\n",
              "      <td>...</td>\n",
              "      <td>...</td>\n",
              "      <td>...</td>\n",
              "      <td>...</td>\n",
              "      <td>...</td>\n",
              "      <td>...</td>\n",
              "      <td>...</td>\n",
              "      <td>...</td>\n",
              "      <td>...</td>\n",
              "      <td>...</td>\n",
              "      <td>...</td>\n",
              "      <td>...</td>\n",
              "      <td>...</td>\n",
              "      <td>...</td>\n",
              "      <td>...</td>\n",
              "      <td>...</td>\n",
              "      <td>...</td>\n",
              "      <td>...</td>\n",
              "      <td>...</td>\n",
              "      <td>...</td>\n",
              "      <td>...</td>\n",
              "      <td>...</td>\n",
              "      <td>...</td>\n",
              "      <td>...</td>\n",
              "    </tr>\n",
              "    <tr>\n",
              "      <th>485</th>\n",
              "      <td>-0.476375</td>\n",
              "      <td>-0.670114</td>\n",
              "      <td>-0.375615</td>\n",
              "      <td>-0.506788</td>\n",
              "      <td>-0.086842</td>\n",
              "      <td>0.886153</td>\n",
              "      <td>0.823615</td>\n",
              "      <td>-0.011843</td>\n",
              "      <td>0.987147</td>\n",
              "      <td>1.481735</td>\n",
              "      <td>-0.047180</td>\n",
              "      <td>-0.017878</td>\n",
              "      <td>1.058346</td>\n",
              "      <td>-0.223253</td>\n",
              "      <td>0.064343</td>\n",
              "      <td>2.751546</td>\n",
              "      <td>2.636192</td>\n",
              "      <td>2.500278</td>\n",
              "      <td>1.426026</td>\n",
              "      <td>2.205998</td>\n",
              "      <td>-0.515468</td>\n",
              "      <td>-0.756771</td>\n",
              "      <td>-0.281214</td>\n",
              "      <td>-0.527344</td>\n",
              "      <td>-0.651778</td>\n",
              "      <td>0.965882</td>\n",
              "      <td>1.043037</td>\n",
              "      <td>0.298347</td>\n",
              "      <td>0.534263</td>\n",
              "      <td>1.078069</td>\n",
              "      <td>1</td>\n",
              "    </tr>\n",
              "    <tr>\n",
              "      <th>186</th>\n",
              "      <td>1.187949</td>\n",
              "      <td>-0.165140</td>\n",
              "      <td>1.096935</td>\n",
              "      <td>1.098139</td>\n",
              "      <td>-0.745834</td>\n",
              "      <td>-0.372605</td>\n",
              "      <td>-0.089257</td>\n",
              "      <td>0.237843</td>\n",
              "      <td>-0.695938</td>\n",
              "      <td>-1.211713</td>\n",
              "      <td>-0.532258</td>\n",
              "      <td>-1.344707</td>\n",
              "      <td>-0.519316</td>\n",
              "      <td>-0.251195</td>\n",
              "      <td>-1.391716</td>\n",
              "      <td>-0.910840</td>\n",
              "      <td>-0.589324</td>\n",
              "      <td>-0.823561</td>\n",
              "      <td>-1.192902</td>\n",
              "      <td>-1.024268</td>\n",
              "      <td>1.043864</td>\n",
              "      <td>0.111186</td>\n",
              "      <td>0.951324</td>\n",
              "      <td>0.930669</td>\n",
              "      <td>-0.393146</td>\n",
              "      <td>-0.062119</td>\n",
              "      <td>0.391533</td>\n",
              "      <td>0.647036</td>\n",
              "      <td>0.493818</td>\n",
              "      <td>-0.807177</td>\n",
              "      <td>0</td>\n",
              "    </tr>\n",
              "    <tr>\n",
              "      <th>306</th>\n",
              "      <td>-0.263364</td>\n",
              "      <td>-0.807410</td>\n",
              "      <td>-0.325363</td>\n",
              "      <td>-0.334435</td>\n",
              "      <td>-0.800631</td>\n",
              "      <td>-0.982274</td>\n",
              "      <td>-1.096530</td>\n",
              "      <td>-1.177705</td>\n",
              "      <td>-0.655777</td>\n",
              "      <td>-0.546856</td>\n",
              "      <td>-0.775518</td>\n",
              "      <td>-1.167264</td>\n",
              "      <td>-0.822770</td>\n",
              "      <td>-0.546458</td>\n",
              "      <td>-1.136372</td>\n",
              "      <td>-0.984614</td>\n",
              "      <td>-1.020100</td>\n",
              "      <td>-1.526415</td>\n",
              "      <td>-0.859936</td>\n",
              "      <td>-0.457648</td>\n",
              "      <td>-0.385006</td>\n",
              "      <td>-0.851221</td>\n",
              "      <td>-0.454568</td>\n",
              "      <td>-0.428374</td>\n",
              "      <td>-0.857807</td>\n",
              "      <td>-0.761237</td>\n",
              "      <td>-1.252098</td>\n",
              "      <td>-1.364398</td>\n",
              "      <td>-0.404050</td>\n",
              "      <td>-0.005310</td>\n",
              "      <td>1</td>\n",
              "    </tr>\n",
              "    <tr>\n",
              "      <th>446</th>\n",
              "      <td>1.028901</td>\n",
              "      <td>2.033938</td>\n",
              "      <td>1.043388</td>\n",
              "      <td>0.929199</td>\n",
              "      <td>0.256887</td>\n",
              "      <td>0.512808</td>\n",
              "      <td>1.016961</td>\n",
              "      <td>0.877275</td>\n",
              "      <td>-0.360051</td>\n",
              "      <td>-0.515669</td>\n",
              "      <td>-0.055842</td>\n",
              "      <td>-0.253742</td>\n",
              "      <td>0.003436</td>\n",
              "      <td>0.079490</td>\n",
              "      <td>-0.775691</td>\n",
              "      <td>-0.297787</td>\n",
              "      <td>0.168314</td>\n",
              "      <td>-0.112920</td>\n",
              "      <td>-0.989490</td>\n",
              "      <td>-0.468617</td>\n",
              "      <td>1.089422</td>\n",
              "      <td>2.094623</td>\n",
              "      <td>1.135996</td>\n",
              "      <td>0.978132</td>\n",
              "      <td>0.338913</td>\n",
              "      <td>0.775677</td>\n",
              "      <td>1.764105</td>\n",
              "      <td>1.254577</td>\n",
              "      <td>0.115258</td>\n",
              "      <td>0.377059</td>\n",
              "      <td>0</td>\n",
              "    </tr>\n",
              "    <tr>\n",
              "      <th>379</th>\n",
              "      <td>-0.865474</td>\n",
              "      <td>-0.106963</td>\n",
              "      <td>-0.768981</td>\n",
              "      <td>-0.834144</td>\n",
              "      <td>1.796196</td>\n",
              "      <td>2.104733</td>\n",
              "      <td>1.005662</td>\n",
              "      <td>0.380483</td>\n",
              "      <td>1.403355</td>\n",
              "      <td>2.367738</td>\n",
              "      <td>-0.699364</td>\n",
              "      <td>-0.344459</td>\n",
              "      <td>-0.567829</td>\n",
              "      <td>-0.579681</td>\n",
              "      <td>0.121345</td>\n",
              "      <td>1.118454</td>\n",
              "      <td>0.463744</td>\n",
              "      <td>0.258540</td>\n",
              "      <td>-0.382886</td>\n",
              "      <td>0.242117</td>\n",
              "      <td>-0.627292</td>\n",
              "      <td>1.163157</td>\n",
              "      <td>-0.461717</td>\n",
              "      <td>-0.654793</td>\n",
              "      <td>3.771263</td>\n",
              "      <td>4.348873</td>\n",
              "      <td>2.725049</td>\n",
              "      <td>2.098130</td>\n",
              "      <td>2.027474</td>\n",
              "      <td>3.122913</td>\n",
              "      <td>0</td>\n",
              "    </tr>\n",
              "  </tbody>\n",
              "</table>\n",
              "<p>569 rows × 31 columns</p>\n",
              "</div>"
            ],
            "text/plain": [
              "     mean radius  mean texture  ...  worst fractal dimension  label\n",
              "368     2.153597     -0.474640  ...                -1.053223      0\n",
              "330     0.540396     -0.879550  ...                 0.404213      0\n",
              "398    -0.871154     -1.037790  ...                 0.423054      1\n",
              "54      0.276263      0.635371  ...                -0.289039      0\n",
              "294    -0.399691     -1.282132  ...                -0.816043      1\n",
              "..           ...           ...  ...                      ...    ...\n",
              "485    -0.476375     -0.670114  ...                 1.078069      1\n",
              "186     1.187949     -0.165140  ...                -0.807177      0\n",
              "306    -0.263364     -0.807410  ...                -0.005310      1\n",
              "446     1.028901      2.033938  ...                 0.377059      0\n",
              "379    -0.865474     -0.106963  ...                 3.122913      0\n",
              "\n",
              "[569 rows x 31 columns]"
            ]
          },
          "metadata": {},
          "execution_count": 102
        }
      ]
    },
    {
      "cell_type": "code",
      "metadata": {
        "id": "2EnCYLsZaCPV"
      },
      "source": [
        "#500 Training\n",
        "X_train = feature[:500]\n",
        "y_train = label[:500]\n",
        "\n",
        "#35 Validation\n",
        "X_val = feature[500:535]\n",
        "y_val = label[500:535]\n",
        "\n",
        "#34 Testing\n",
        "X_test = feature[535:]\n",
        "y_test = label[535:]"
      ],
      "execution_count": 103,
      "outputs": []
    },
    {
      "cell_type": "code",
      "metadata": {
        "id": "zCY6QLigdko0"
      },
      "source": [
        "model = Sequential()\n",
        "\n",
        "model.add(Dense(32, activation = 'relu', input_dim = 30))\n",
        "model.add(Dense(64, activation = 'relu'))\n",
        "model.add(Dense(128, activation = 'relu'))\n",
        "model.add(Dense(64, activation = 'relu'))\n",
        "model.add(Dense(32, activation = 'relu'))\n",
        "model.add(Dense(1, activation = 'sigmoid'))\n",
        "\n",
        "model.compile( loss = 'binary_crossentropy' , optimizer = 'adam' , metrics = ['accuracy'])"
      ],
      "execution_count": 104,
      "outputs": []
    },
    {
      "cell_type": "code",
      "metadata": {
        "colab": {
          "base_uri": "https://localhost:8080/"
        },
        "id": "frAdC1PRd8z5",
        "outputId": "a72039cd-f656-4008-977f-7ac20092d027"
      },
      "source": [
        "model.fit( X_train , y_train, epochs = 10, batch_size = 5, validation_data = (X_val, y_val))"
      ],
      "execution_count": 105,
      "outputs": [
        {
          "output_type": "stream",
          "name": "stdout",
          "text": [
            "Epoch 1/10\n",
            "100/100 [==============================] - 1s 3ms/step - loss: 0.2041 - accuracy: 0.9240 - val_loss: 0.0601 - val_accuracy: 0.9714\n",
            "Epoch 2/10\n",
            "100/100 [==============================] - 0s 2ms/step - loss: 0.0789 - accuracy: 0.9800 - val_loss: 0.0543 - val_accuracy: 0.9714\n",
            "Epoch 3/10\n",
            "100/100 [==============================] - 0s 2ms/step - loss: 0.0590 - accuracy: 0.9900 - val_loss: 0.0680 - val_accuracy: 0.9714\n",
            "Epoch 4/10\n",
            "100/100 [==============================] - 0s 2ms/step - loss: 0.0544 - accuracy: 0.9840 - val_loss: 0.0648 - val_accuracy: 0.9714\n",
            "Epoch 5/10\n",
            "100/100 [==============================] - 0s 2ms/step - loss: 0.0342 - accuracy: 0.9900 - val_loss: 0.0744 - val_accuracy: 0.9429\n",
            "Epoch 6/10\n",
            "100/100 [==============================] - 0s 2ms/step - loss: 0.0279 - accuracy: 0.9940 - val_loss: 0.0942 - val_accuracy: 0.9714\n",
            "Epoch 7/10\n",
            "100/100 [==============================] - 0s 2ms/step - loss: 0.0210 - accuracy: 0.9880 - val_loss: 0.0196 - val_accuracy: 1.0000\n",
            "Epoch 8/10\n",
            "100/100 [==============================] - 0s 2ms/step - loss: 0.0275 - accuracy: 0.9920 - val_loss: 0.0447 - val_accuracy: 0.9714\n",
            "Epoch 9/10\n",
            "100/100 [==============================] - 0s 2ms/step - loss: 0.0152 - accuracy: 0.9960 - val_loss: 0.0271 - val_accuracy: 1.0000\n",
            "Epoch 10/10\n",
            "100/100 [==============================] - 0s 2ms/step - loss: 0.0217 - accuracy: 0.9920 - val_loss: 0.0964 - val_accuracy: 0.9429\n"
          ]
        },
        {
          "output_type": "execute_result",
          "data": {
            "text/plain": [
              "<keras.callbacks.History at 0x7f5fc4b42690>"
            ]
          },
          "metadata": {},
          "execution_count": 105
        }
      ]
    },
    {
      "cell_type": "code",
      "metadata": {
        "colab": {
          "base_uri": "https://localhost:8080/"
        },
        "id": "27JvyY1rex6L",
        "outputId": "f2d4cb5d-bb51-4215-e602-395b60fad078"
      },
      "source": [
        "model.evaluate(X_test , y_test)"
      ],
      "execution_count": 106,
      "outputs": [
        {
          "output_type": "stream",
          "name": "stdout",
          "text": [
            "2/2 [==============================] - 0s 5ms/step - loss: 0.0427 - accuracy: 0.9706\n"
          ]
        },
        {
          "output_type": "execute_result",
          "data": {
            "text/plain": [
              "[0.04266750067472458, 0.970588207244873]"
            ]
          },
          "metadata": {},
          "execution_count": 106
        }
      ]
    },
    {
      "cell_type": "code",
      "metadata": {
        "colab": {
          "base_uri": "https://localhost:8080/"
        },
        "id": "DMZgj3TPfDI4",
        "outputId": "7296ddbd-29c0-459a-bc8b-5eb93b100ab3"
      },
      "source": [
        "model.evaluate(X_val , y_val)"
      ],
      "execution_count": 107,
      "outputs": [
        {
          "output_type": "stream",
          "name": "stdout",
          "text": [
            "2/2 [==============================] - 0s 6ms/step - loss: 0.0964 - accuracy: 0.9429\n"
          ]
        },
        {
          "output_type": "execute_result",
          "data": {
            "text/plain": [
              "[0.09638389945030212, 0.9428571462631226]"
            ]
          },
          "metadata": {},
          "execution_count": 107
        }
      ]
    },
    {
      "cell_type": "code",
      "metadata": {
        "colab": {
          "base_uri": "https://localhost:8080/"
        },
        "id": "O93kwB3ufFh_",
        "outputId": "7a84547f-9819-4a94-c492-99e376031b17"
      },
      "source": [
        "for i in range(30):\n",
        "  sample = X_test[i]\n",
        "  sample = np.reshape(sample, (1,30))\n",
        "\n",
        "  if (model.predict(sample)[0][0] > 0.5):\n",
        "    print(\"-Benign\")\n",
        "  else:\n",
        "    print(\"-Malignant\")\n",
        "\n",
        "  if (y_test[i] == 1):\n",
        "    print(\"*Banign\")\n",
        "  else:\n",
        "    print(\"*Melignant\")\n",
        "  print(\"-----------\")"
      ],
      "execution_count": 108,
      "outputs": [
        {
          "output_type": "stream",
          "name": "stdout",
          "text": [
            "-Benign\n",
            "*Banign\n",
            "-----------\n",
            "-Malignant\n",
            "*Melignant\n",
            "-----------\n",
            "-Malignant\n",
            "*Melignant\n",
            "-----------\n",
            "-Benign\n",
            "*Banign\n",
            "-----------\n",
            "-Malignant\n",
            "*Melignant\n",
            "-----------\n",
            "-Malignant\n",
            "*Melignant\n",
            "-----------\n",
            "-Benign\n",
            "*Banign\n",
            "-----------\n",
            "-Benign\n",
            "*Banign\n",
            "-----------\n",
            "-Benign\n",
            "*Banign\n",
            "-----------\n",
            "-Benign\n",
            "*Banign\n",
            "-----------\n",
            "-Malignant\n",
            "*Banign\n",
            "-----------\n",
            "-Malignant\n",
            "*Melignant\n",
            "-----------\n",
            "-Benign\n",
            "*Banign\n",
            "-----------\n",
            "-Malignant\n",
            "*Melignant\n",
            "-----------\n",
            "-Benign\n",
            "*Banign\n",
            "-----------\n",
            "-Malignant\n",
            "*Melignant\n",
            "-----------\n",
            "-Malignant\n",
            "*Melignant\n",
            "-----------\n",
            "-Benign\n",
            "*Banign\n",
            "-----------\n",
            "-Malignant\n",
            "*Melignant\n",
            "-----------\n",
            "-Benign\n",
            "*Banign\n",
            "-----------\n",
            "-Benign\n",
            "*Banign\n",
            "-----------\n",
            "-Benign\n",
            "*Banign\n",
            "-----------\n",
            "-Benign\n",
            "*Banign\n",
            "-----------\n",
            "-Benign\n",
            "*Banign\n",
            "-----------\n",
            "-Malignant\n",
            "*Melignant\n",
            "-----------\n",
            "-Malignant\n",
            "*Melignant\n",
            "-----------\n",
            "-Benign\n",
            "*Banign\n",
            "-----------\n",
            "-Benign\n",
            "*Banign\n",
            "-----------\n",
            "-Benign\n",
            "*Banign\n",
            "-----------\n",
            "-Benign\n",
            "*Banign\n",
            "-----------\n"
          ]
        }
      ]
    },
    {
      "cell_type": "code",
      "metadata": {
        "colab": {
          "base_uri": "https://localhost:8080/"
        },
        "id": "pVRo3hmAfJ6R",
        "outputId": "fd9bb551-0a5c-42d9-de65-cc7efe73098b"
      },
      "source": [
        "t = 0\n",
        "for i in y_val:\n",
        "  if (i == 1):\n",
        "    t += 1\n",
        "\n",
        "print(t)"
      ],
      "execution_count": 109,
      "outputs": [
        {
          "output_type": "stream",
          "name": "stdout",
          "text": [
            "22\n"
          ]
        }
      ]
    },
    {
      "cell_type": "code",
      "metadata": {
        "colab": {
          "base_uri": "https://localhost:8080/"
        },
        "id": "JdZ4k2PFgqfj",
        "outputId": "79512b01-a58c-4822-9522-e4f9b701da69"
      },
      "source": [
        "t = 0\n",
        "for i in y_test:\n",
        "  if (i == 1):\n",
        "    t += 1\n",
        "\n",
        "print(t)"
      ],
      "execution_count": 111,
      "outputs": [
        {
          "output_type": "stream",
          "name": "stdout",
          "text": [
            "20\n"
          ]
        }
      ]
    },
    {
      "cell_type": "code",
      "metadata": {
        "colab": {
          "base_uri": "https://localhost:8080/"
        },
        "id": "D_htNOdlgwfE",
        "outputId": "a5756fec-8dcc-4514-90d9-5f077538bce3"
      },
      "source": [
        "X_test[0] * -.1"
      ],
      "execution_count": 112,
      "outputs": [
        {
          "output_type": "execute_result",
          "data": {
            "text/plain": [
              "array([ 0.08115114,  0.08818766,  0.0765686 ,  0.07476836,  0.09045328,\n",
              "       -0.01337788, -0.01494127,  0.05506795,  0.00059095, -0.137825  ,\n",
              "        0.02695071,  0.02718857,  0.01470534,  0.03821054, -0.11130522,\n",
              "       -0.23033119, -0.20831325, -0.14069844,  0.10112838, -0.32284116,\n",
              "        0.08757913,  0.10987434,  0.08200403,  0.07569276,  0.09717801,\n",
              "       -0.01694355, -0.01435012,  0.04855187,  0.12032336, -0.11279437])"
            ]
          },
          "metadata": {},
          "execution_count": 112
        }
      ]
    },
    {
      "cell_type": "code",
      "metadata": {
        "id": "R5p6MZ1Ug0Tw"
      },
      "source": [
        ""
      ],
      "execution_count": null,
      "outputs": []
    }
  ]
}